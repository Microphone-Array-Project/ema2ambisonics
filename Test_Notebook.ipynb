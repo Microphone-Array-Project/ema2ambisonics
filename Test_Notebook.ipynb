{
 "cells": [
  {
   "cell_type": "code",
   "execution_count": 1,
   "metadata": {},
   "outputs": [],
   "source": [
    "import numpy as np\n",
    "import pyfar as pf\n",
    "import scipy as sc\n",
    "import matplotlib.pyplot as plt\n",
    "from src.ema_radial_filters import radial_filters_ema\n",
    "from src.get_soundfield_coeffs_from_ema import get_sh_soundfield_coeffs_ema\n",
    "from src.utils import _spherical_hankel_function, _derivative_sph_hankel\n",
    "import warnings\n",
    "import sounddevice as sd"
   ]
  },
  {
   "cell_type": "code",
   "execution_count": 126,
   "metadata": {},
   "outputs": [],
   "source": [
    "viol1 = pf.dsp.resample(pf.io.read_audio(r'c:\\Users\\HP\\Downloads\\Mov3_Trio_Violin1_Haydn_StringQuartet_op76_n1.wav'), 48000)\n",
    "viol2 = pf.dsp.resample(pf.io.read_audio(r'c:\\Users\\HP\\Downloads\\Mov3_Trio_Violin2_Haydn_StringQuartet_op76_n1.wav'), 48000)\n",
    "\n",
    "mov1_stereo = np.vstack((viol1.time[13, :], viol2.time[13, :]))\n",
    "\n",
    "# sd.play(mov1_stereo.T, 48000)\n",
    "pf.io.write_audio(pf.Signal(mov1_stereo, 48000), r'signals/mov1_stereo.wav')"
   ]
  },
  {
   "cell_type": "code",
   "execution_count": null,
   "metadata": {},
   "outputs": [],
   "source": [
    "ambi = sc.io.loadmat(r'tests/resources/ambi_signals_raw.mat')"
   ]
  },
  {
   "cell_type": "code",
   "execution_count": null,
   "metadata": {},
   "outputs": [],
   "source": [
    "ambi_signal = pf.Signal(ambi['ambi_signals_raw'].T, 48e3)\n",
    "\n",
    "pf.plot.time_freq(ambi_signal)\n",
    "plt.show()"
   ]
  },
  {
   "cell_type": "code",
   "execution_count": 96,
   "metadata": {},
   "outputs": [],
   "source": [
    "fs = 48e3\n",
    "sweep = pf.signals.exponential_sweep_time(2**16, sampling_rate=fs, \n",
    "                                          amplitude=0.5,\n",
    "                                          frequency_range=(50, 20e3))\n",
    "\n",
    "# add one second of silence at the end\n",
    "sweep = pf.dsp.pad_zeros(sweep, int(fs*1))\n",
    "\n",
    "pf.io.write_audio(sweep, r'signals/sweep_48kHz_50Hz_20kHz.wav')"
   ]
  },
  {
   "cell_type": "code",
   "execution_count": null,
   "metadata": {},
   "outputs": [],
   "source": [
    "signals = pf.dsp.normalize(pf.io.read_audio(r\"Measurements RAR/25_01_20_ema_16_rar_50Hz_20kHz.wav\"))\n",
    "ref = pf.dsp.normalize(pf.io.read_audio(r\"Measurements RAR/25_01_20_ref_rar_50Hz_20kHz.wav\"))\n",
    "\n",
    "# # irs = pf.dsp.deconvolve(signals, sweep, frequency_range=[50, 20e3])\n",
    "# # ref_ir = pf.dsp.deconvolve(ref, sweep, frequency_range=[50, 20000])\n",
    "\n",
    "# # ref_ir = pf.dsp.minimum_phase(ref_ir)\n",
    "\n",
    "irs = pf.dsp.deconvolve(signals, ref, frequency_range=[50, 20000]) \n",
    "irs_ = pf.dsp.fractional_time_shift(irs, 512, mode='cyclic')\n",
    "\n",
    "# np.testing.assert_allclose(np.abs(irs_.freq), np.abs(irs.freq), rtol=1e-4)\n",
    "# # pf.plot.time_freq(pf.dsp.normalize(irs[0], domain='freq'), label='unshifted')\n",
    "pf.plot.time_freq(pf.dsp.normalize(irs_[4], domain='freq'), label='shifted')\n",
    "# plt.legend()\n",
    "plt.show()"
   ]
  },
  {
   "cell_type": "markdown",
   "metadata": {},
   "source": [
    "### Ambisonics Encoding"
   ]
  },
  {
   "cell_type": "code",
   "execution_count": null,
   "metadata": {},
   "outputs": [],
   "source": [
    "sig = pf.io.read_audio(r'Recording_Reverberant/ema_16.wav')\n",
    "filter_length = 2048\n",
    "f = np.linspace(0, 48e3/2, filter_length//2+1)\n",
    "alpha = np.linspace(0, 2*np.pi, 16, endpoint=False)\n",
    "\n",
    "alpha = np.roll(np.flip(alpha), 1)\n",
    "# print(alpha)\n",
    "# file = sc.io.loadmat(r'c:\\Users\\HP\\Documents\\MATLAB\\ambisonic-encoding-main\\resources\\ema_recording_chalmers.mat')\n",
    "# reference = sc.io.loadmat(r\"tests/resources/s_ring_m_surf.mat\")\n",
    "\n",
    "# array_signals = file['array_signals'].T\n",
    "\n",
    "# signals = pf.Signal(array_signals, sampling_rate=file['fs'])\n",
    "# print(signals)\n",
    "\n",
    "radial_filters = radial_filters_ema(f, 0.0875, 7, 40, 'tikhonov')\n",
    "s_sh = get_sh_soundfield_coeffs_ema(sig, radial_filters, 7, alpha)"
   ]
  },
  {
   "cell_type": "code",
   "execution_count": null,
   "metadata": {},
   "outputs": [],
   "source": [
    "# save ambisonics signal\n",
    "pf.io.write_audio(s_sh, r'Recording_Reverberant/xxx.wav')"
   ]
  },
  {
   "cell_type": "code",
   "execution_count": null,
   "metadata": {},
   "outputs": [],
   "source": [
    "pf.plot.time_freq(s_sh)\n",
    "plt.show()"
   ]
  },
  {
   "cell_type": "markdown",
   "metadata": {},
   "source": [
    "# garbage"
   ]
  },
  {
   "cell_type": "code",
   "execution_count": null,
   "metadata": {},
   "outputs": [],
   "source": [
    "ref_sig = reference['s_ring_m_surf']\n",
    "ref_sig = pf.Signal(ref_sig.T, sampling_rate=48000)\n",
    "\n",
    "i = 0\n",
    "\n",
    "np.testing.assert_array_almost_equal(ref_sig.time, s_sh.time)\n",
    "\n",
    "pf.plot.time(s_sh[i])\n",
    "pf.plot.time(ref_sig[i], ls=':')\n",
    "plt.show()"
   ]
  },
  {
   "cell_type": "code",
   "execution_count": null,
   "metadata": {},
   "outputs": [],
   "source": [
    "ema_rft_t = sc.io.loadmat(r'C:\\Users\\HP\\ema2ambisonics\\tests\\resources\\ema_rf_t_soft_40dB.mat')['ema_inv_rf_t']\n",
    "ema_rft_t2 = sc.io.loadmat(r'C:\\Users\\HP\\ema2ambisonics\\tests\\resources\\ema_rf_t_tikhonov_40dB.mat')['ema_inv_rf_t']\n",
    "ema_rft_t3 = sc.io.loadmat(r'C:\\Users\\HP\\ema2ambisonics\\tests\\resources\\ema_rf_t_hard_40dB.mat')['ema_inv_rf_t']\n",
    "\n",
    "ema_rft_t = pf.Signal(ema_rft_t.T, 48000, domain='time')\n",
    "ema_rft_t2 = pf.Signal(ema_rft_t2.T, 48000, domain='time')\n",
    "ema_rft_t3 = pf.Signal(ema_rft_t3.T, 48000, domain='time')\n",
    "\n",
    "\n",
    "\n",
    "i = 4\n",
    "\n",
    "filter_length = 2048\n",
    "f = np.linspace(0, 48e3/2, filter_length//2+1)\n",
    "radial_filters = radial_filters_ema(f, 0.0875, 9, 20, 'soft')\n",
    "\n",
    "# pf.plot.freq(ema_rft_t[i], label= 'Soft')\n",
    "# pf.plot.freq(ema_rft_t2[i], label= 'Thikonov', ls=':')\n",
    "# pf.plot.freq(ema_rft_t3[i], label='hard', ls='--')\n",
    "pf.plot.freq(radial_filters, label='no regularization', ls='-.')\n",
    "# plt.legend()\n",
    "plt.show()"
   ]
  },
  {
   "cell_type": "code",
   "execution_count": null,
   "metadata": {},
   "outputs": [],
   "source": [
    "ema_rft_t2.cshape[0]"
   ]
  },
  {
   "cell_type": "code",
   "execution_count": null,
   "metadata": {},
   "outputs": [],
   "source": [
    "filt = pf.FilterFIR(radial_filters.time[0], radial_filters.sampling_rate)\n",
    "impulse = pf.signals.impulse(2048, sampling_rate=48e3)\n",
    "\n",
    "pf.plot.time_freq(impulse)\n",
    "pf.plot.time_freq(filt.process(impulse))\n",
    "pf.plot.time_freq(radial_filters[0], ls=':')\n",
    "plt.show()"
   ]
  },
  {
   "cell_type": "code",
   "execution_count": 5,
   "metadata": {},
   "outputs": [],
   "source": [
    "import pathlib"
   ]
  },
  {
   "cell_type": "code",
   "execution_count": 32,
   "metadata": {},
   "outputs": [],
   "source": [
    "fp = pathlib.Path(r\"E:\\2_IR_BPH\")\n",
    "files = list(fp.glob('*.sofa'))\n",
    "\n",
    "ir, source, receivers = pf.io.read_sofa(files[0])"
   ]
  },
  {
   "cell_type": "code",
   "execution_count": null,
   "metadata": {},
   "outputs": [],
   "source": [
    "print(ir.cshape)\n",
    "source.show()\n",
    "plt.show()"
   ]
  },
  {
   "cell_type": "code",
   "execution_count": null,
   "metadata": {},
   "outputs": [],
   "source": [
    "et"
   ]
  }
 ],
 "metadata": {
  "kernelspec": {
   "display_name": "pyfar",
   "language": "python",
   "name": "python3"
  },
  "language_info": {
   "codemirror_mode": {
    "name": "ipython",
    "version": 3
   },
   "file_extension": ".py",
   "mimetype": "text/x-python",
   "name": "python",
   "nbconvert_exporter": "python",
   "pygments_lexer": "ipython3",
   "version": "3.13.2"
  }
 },
 "nbformat": 4,
 "nbformat_minor": 2
}
